{
 "cells": [
  {
   "cell_type": "code",
   "execution_count": 1,
   "metadata": {},
   "outputs": [],
   "source": [
    "import numpy as np\n",
    "import matplotlib.pyplot as plt\n",
    "\n",
    "import loader"
   ]
  },
  {
   "cell_type": "code",
   "execution_count": 2,
   "metadata": {},
   "outputs": [],
   "source": [
    "np.random.seed(1184445)"
   ]
  },
  {
   "cell_type": "code",
   "execution_count": 3,
   "metadata": {},
   "outputs": [
    {
     "name": "stdout",
     "output_type": "stream",
     "text": [
      "Strong convexity constant: 1e-06\n",
      "Lipschitz constant: 496.42169028250004\n",
      "Condition number: 496421690.2825001\n"
     ]
    }
   ],
   "source": [
    "f_loader = loader.Loader(dataset='sonar', tau=1e-6)\n",
    "f, grad_f, input_size = f_loader.get_function()\n",
    "sigma, L = f_loader.get_constants()\n",
    "\n",
    "print(\"Strong convexity constant: {0}\".format(sigma))\n",
    "print(\"Lipschitz constant: {0}\".format(L))\n",
    "print(\"Condition number: {0}\".format(L/sigma))"
   ]
  },
  {
   "cell_type": "code",
   "execution_count": 4,
   "metadata": {},
   "outputs": [
    {
     "name": "stdout",
     "output_type": "stream",
     "text": [
      "Input size: 60\n"
     ]
    }
   ],
   "source": [
    "print(\"Input size: {0}\".format(input_size))"
   ]
  },
  {
   "cell_type": "code",
   "execution_count": 5,
   "metadata": {},
   "outputs": [],
   "source": [
    "mu_min = 0.1\n",
    "mu_max = 10"
   ]
  },
  {
   "cell_type": "markdown",
   "metadata": {},
   "source": [
    "### Iterate list\n",
    "The list of the iterates can $x_{0}, \\dots, x_{k+1}$ can be used to build the matrix $X = [x_{0} \\dots x_{k+1}]$."
   ]
  },
  {
   "cell_type": "code",
   "execution_count": 6,
   "metadata": {},
   "outputs": [],
   "source": [
    "m = input_size\n",
    "k = 10 # k+2 samples to be generated x_0, ..., x_(k+1)\n",
    "\n",
    "# generate k+2 samples\n",
    "x_list = 10*(np.random.random_sample((m,k+2))-0.5)"
   ]
  },
  {
   "cell_type": "markdown",
   "metadata": {},
   "source": [
    "### Log scale sampling"
   ]
  },
  {
   "cell_type": "code",
   "execution_count": 7,
   "metadata": {},
   "outputs": [],
   "source": [
    "# sample according to a log scale\n",
    "\n",
    "log_step = np.log(mu_max/mu_min)/k\n",
    "log_mu = np.arange(np.log(mu_min), np.log(mu_max), log_step)\n",
    "mu = np.exp(log_mu)"
   ]
  },
  {
   "cell_type": "code",
   "execution_count": 8,
   "metadata": {},
   "outputs": [
    {
     "data": {
      "image/png": "[encoded data removed]",
      "text/plain": [
       "<Figure size 360x216 with 1 Axes>"
      ]
     },
     "metadata": {
      "needs_background": "light"
     },
     "output_type": "display_data"
    }
   ],
   "source": [
    "fig, ax = plt.subplots(figsize=(5, 3))\n",
    "ax.plot(mu)\n",
    "ax.set_title('Range of values of $\\mu$ using normal scale')\n",
    "ax.set_ylabel('$\\mu$')\n",
    "ax.set_xlabel('time')\n",
    "fig.tight_layout()"
   ]
  },
  {
   "cell_type": "code",
   "execution_count": 9,
   "metadata": {},
   "outputs": [
    {
     "data": {
      "image/png": "[encoded data removed]",
      "text/plain": [
       "<Figure size 360x216 with 1 Axes>"
      ]
     },
     "metadata": {
      "needs_background": "light"
     },
     "output_type": "display_data"
    }
   ],
   "source": [
    "fig, ax = plt.subplots(figsize=(5, 3))\n",
    "ax.semilogy(mu)\n",
    "ax.set_title('Range of values of $\\mu$ using log scale on y axis')\n",
    "ax.set_ylabel('$\\mu$')\n",
    "ax.set_xlabel('time')\n",
    "fig.tight_layout()"
   ]
  },
  {
   "cell_type": "markdown",
   "metadata": {},
   "source": [
    "### Residual matrix\n",
    "The residual matrix is defined as\n",
    "\n",
    "\\begin{equation}\n",
    "R = \\left[r_1 \\dots r_k \\right]\n",
    "\\end{equation}\n",
    "\n",
    "where $r_k = x_{k+1} - x_k$.\n",
    "\n",
    "It can be also computed as\n",
    "\\begin{equation}\n",
    "R = X_{ss} - X_{ii}\n",
    "\\end{equation}\n",
    "\n",
    "where $X_{ss} = [ x_2 \\dots x_{k+1}]$ and $X_{ii} = [ x_1 \\dots x_k]$."
   ]
  },
  {
   "cell_type": "code",
   "execution_count": 10,
   "metadata": {},
   "outputs": [
    {
     "name": "stdout",
     "output_type": "stream",
     "text": [
      "Dimension of R: (60, 10)\n",
      "Norm of the difference between R computed with for cycle and with matrices: 0.0\n"
     ]
    }
   ],
   "source": [
    "# compute residual matrix\n",
    "\n",
    "R_cycle = []\n",
    "\n",
    "for j in range(1,k+1):\n",
    "    R_cycle.append(x_list[:,j+1]-x_list[:,j])\n",
    "\n",
    "R_cycle = np.transpose(np.matrix(R_cycle))\n",
    "\n",
    "x_ii = x_list[:,1:k+1] # samples from x_1 rto x_k\n",
    "x_ss = x_list[:,2:k+2] # samples from x_2 to x_(k+1)\n",
    "R = np.matrix(x_ss-x_ii)\n",
    "print(\"Dimension of R: {0}\".format(R.shape))\n",
    "\n",
    "print(\"Norm of the difference between R computed with for cycle and with matrices: {0}\".format(np.linalg.norm(R_cycle - R)))"
   ]
  },
  {
   "cell_type": "markdown",
   "metadata": {},
   "source": [
    "The matrix $M$ is given by\n",
    "\\begin{equation}\n",
    "M = R^{T} R\n",
    "\\end{equation}\n",
    "\n",
    "In the paper, $M$ is defined as \n",
    "\\begin{equation}\n",
    "M = \\dfrac{R^{T}R}{\\| R^{T} R \\|}\n",
    "\\end{equation}\n",
    "but since it derives from the gradient of $\\| Rc \\|^2 + \\mu \\| c \\|^{2}$, I think it should not be normalized."
   ]
  },
  {
   "cell_type": "code",
   "execution_count": 11,
   "metadata": {},
   "outputs": [
    {
     "name": "stdout",
     "output_type": "stream",
     "text": [
      "Dimension of M: (10, 10)\n"
     ]
    }
   ],
   "source": [
    "# compute and normalize the matrix M\n",
    "\n",
    "M = np.matmul(np.transpose(R), R)\n",
    "M = M/np.linalg.norm(M, ord='fro')\n",
    "\n",
    "print(\"Dimension of M: {0}\".format(M.shape))"
   ]
  },
  {
   "cell_type": "markdown",
   "metadata": {},
   "source": [
    "For each $\\mu_{i}$, solve $(M+\\mu_{i} I)z = e$ with respect to $z$ and normalize the solution, obtaining $c_{\\mu_{i}}$.\n",
    "This means that, in case a unique solution exists, it is given by\n",
    "\\begin{equation}\n",
    "c_{\\mu_{i}} = \\dfrac{(M+\\mu_{i} I)^{-1}}{\\| (M+\\mu_{i} I)^{-1} \\|}.\n",
    "\\end{equation}\n",
    "Then, $x_{\\mu_{j}}$ is computed as\n",
    "\\begin{equation}\n",
    "x_{\\text{extr}}(\\mu_{i}) = \\sum_{j=0}^{k} c_{\\mu_{i,j}} x_{j}.\n",
    "\\end{equation}\n",
    "Alternatively, it can be computed as\n",
    "\\begin{equation}\n",
    "x_{\\text{extr}}(\\mu_{i}) = X' c_{\\mu_{i,j}}\n",
    "\\end{equation}\n",
    "where $X'=[x_0 \\dots x_k]$."
   ]
  },
  {
   "cell_type": "code",
   "execution_count": 12,
   "metadata": {},
   "outputs": [
    {
     "name": "stdout",
     "output_type": "stream",
     "text": [
      "Norm of the difference between x_extr computed in the two possible ways: 2.718346558227068e-15\n"
     ]
    }
   ],
   "source": [
    "for i in range(k):\n",
    "    a = M+mu[i]*np.eye(M.shape[0])\n",
    "    #print(a.shape)\n",
    "    b = np.ones(M.shape[0])\n",
    "    #print(b.shape)\n",
    "    c = np.linalg.solve(a, b)\n",
    "    #print(c.shape)\n",
    "    c = c/np.linalg.norm(c)\n",
    "    #print(c.shape)\n",
    "    x_extr = np.zeros(m)\n",
    "    for j in range(k):\n",
    "        x_extr = x_extr + c[j]*x_list[:,j]\n",
    "    x_extr = np.array(x_extr)\n",
    "    x_extr2 = np.matmul(x_list[:,0:k], c)\n",
    "    x_extr2 = np.transpose(x_extr2)\n",
    "    \n",
    "print(\"Norm of the difference between x_extr computed in the two possible ways: {0}\".format(np.linalg.norm(x_extr2-x_extr)))"
   ]
  },
  {
   "cell_type": "markdown",
   "metadata": {},
   "source": [
    "### Extrapolation step\n",
    "\n",
    "The value $x_{extr}^{*}$ is chosen as the solution of\n",
    "\n",
    "\\begin{equation}\n",
    "\\min_{\\mu_{j}, j=1,\\dots,k} x_{extr}(\\mu_{j}).\n",
    "\\end{equation}\n"
   ]
  },
  {
   "cell_type": "code",
   "execution_count": 13,
   "metadata": {},
   "outputs": [
    {
     "name": "stdout",
     "output_type": "stream",
     "text": [
      "Initial value of f_star: 88.53524970537624\n",
      "Final value of f_star: 67.67657432285499\n"
     ]
    }
   ],
   "source": [
    "#print(x_list[:,0].shape)\n",
    "x0 = x_list[:,0]\n",
    "\n",
    "f_star = f(x0)\n",
    "x_star = x0\n",
    "\n",
    "print(\"Initial value of f_star: {0}\".format(f_star))\n",
    "\n",
    "for i in range(k):\n",
    "    a = M+mu[i]*np.eye(M.shape[0])\n",
    "    #print(a.shape)\n",
    "    b = np.ones(M.shape[0])\n",
    "    #print(b.shape)\n",
    "    c = np.linalg.solve(a, b)\n",
    "    #print(c.shape)\n",
    "    #c = np.sum(np.linalg.inv(M+mu[i]*np.eye(M.shape[0])),0)\n",
    "    c = c/np.linalg.norm(c)\n",
    "    x_extr = np.matmul(c, np.transpose(x_list[:,0:k]))\n",
    "    x_extr = np.array(x_extr)\n",
    "    #print(x_extr)\n",
    "    \n",
    "    f_extr = f(x_extr)\n",
    "    if(f_extr < f_star):\n",
    "        f_star = f_extr\n",
    "        x_star = x_extr\n",
    "        \n",
    "print(\"Final value of f_star: {0}\".format(f_star))"
   ]
  },
  {
   "cell_type": "markdown",
   "metadata": {},
   "source": [
    "### Final output\n",
    "\n",
    "The final output is chosen as\n",
    "\\begin{equation}\n",
    "x_{0} + t(x_{extr}^{*} - x_{0})\n",
    "\\end{equation}\n",
    "\n",
    "where $t$ is initialized to 1 and doubled while $F(2t)< F(t)$, where $F(t) = f(x_{0} + t(x_{extr}^{*} - x_{0}))$."
   ]
  },
  {
   "cell_type": "code",
   "execution_count": 14,
   "metadata": {},
   "outputs": [
    {
     "name": "stdout",
     "output_type": "stream",
     "text": [
      "Initial value F(1) (must be f(x_star)): 67.67657432285499\n",
      "Value of the objective function: 67.67657432285499\n"
     ]
    }
   ],
   "source": [
    "t = 1\n",
    "\n",
    "F = lambda t : f(x0 + t*(x_star-x0))\n",
    "\n",
    "print(\"Initial value F(1) (must be f(x_star)): {0}\".format(F(t)))\n",
    "\n",
    "while(F(2*t) < F(t)):\n",
    "    t = 2*t\n",
    "\n",
    "x_hat = x0 + t*(x_star-x0)\n",
    "\n",
    "print(\"Value of the objective function: {0}\".format(f(x_hat)))"
   ]
  },
  {
   "cell_type": "markdown",
   "metadata": {},
   "source": [
    "### Complete algorithm"
   ]
  },
  {
   "cell_type": "code",
   "execution_count": 15,
   "metadata": {},
   "outputs": [],
   "source": [
    "def nonlinear_acc(x_list, f, mu_min, mu_max):\n",
    "    k = x_list.shape[1] - 2\n",
    "    log_step = np.log(mu_max/mu_min)/(k+1)\n",
    "    log_mu = np.arange(np.log(mu_min), np.log(mu_max), log_step)\n",
    "    mu = np.exp(log_mu)\n",
    "    \n",
    "    # Compute the residue matrix\n",
    "    x_ii = x_list[:, 1:k+1] # samples from x_1 rto x_k\n",
    "    x_ss = x_list[:,2:k+2] # samples from x_2 to x_(k+1)\n",
    "    R = np.matrix(x_ss-x_ii)\n",
    "    M = np.matmul(np.transpose(R), R)\n",
    "    M = M/np.linalg.norm(M, ord='fro')\n",
    "    \n",
    "    # Find x_star\n",
    "    x0 = x_list[:,0]\n",
    "    f_star = f(x0)\n",
    "    x_star = x0\n",
    "\n",
    "    for i in range(k+1):\n",
    "        a = M+mu[i]*np.eye(M.shape[0]) # a is symmetric\n",
    "        b = np.ones(M.shape[0])\n",
    "        c = np.linalg.solve(a, b)\n",
    "        c = c/np.linalg.norm(c)\n",
    "        x_extr = np.matmul(c, np.transpose(x_list[:,0:k]))\n",
    "        x_extr = np.array(x_extr)\n",
    "\n",
    "        f_extr = f(x_extr)\n",
    "        if(f_extr < f_star):\n",
    "            f_star = f_extr\n",
    "            x_star = x_extr\n",
    "    \n",
    "    \n",
    "    # find the best value of t that minimizes f(x0 + t*(x_star-x0))\n",
    "    t = 1\n",
    "    F = lambda t : f(x0 + t*(x_star-x0))\n",
    "    while(F(2*t) < F(t)):\n",
    "        t = 2*t\n",
    "\n",
    "    x_hat = x0 + t*(x_star-x0)\n",
    "    \n",
    "    return x_hat    "
   ]
  },
  {
   "cell_type": "code",
   "execution_count": 16,
   "metadata": {},
   "outputs": [
    {
     "name": "stdout",
     "output_type": "stream",
     "text": [
      "Value of the objective function: 67.67597341029817\n"
     ]
    }
   ],
   "source": [
    "x_hat = nonlinear_acc(x_list, f, mu_min, mu_max)\n",
    "print(\"Value of the objective function: {0}\".format(f(x_hat)))"
   ]
  },
  {
   "cell_type": "code",
   "execution_count": null,
   "metadata": {},
   "outputs": [],
   "source": []
  }
 ],
 "metadata": {
  "kernelspec": {
   "display_name": "Python 3",
   "language": "python",
   "name": "python3"
  },
  "language_info": {
   "codemirror_mode": {
    "name": "ipython",
    "version": 3
   },
   "file_extension": ".py",
   "mimetype": "text/x-python",
   "name": "python",
   "nbconvert_exporter": "python",
   "pygments_lexer": "ipython3",
   "version": "3.6.8"
  }
 },
 "nbformat": 4,
 "nbformat_minor": 2
}
