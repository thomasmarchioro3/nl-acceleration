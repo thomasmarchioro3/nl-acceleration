{
 "cells": [
  {
   "cell_type": "code",
   "execution_count": 1,
   "metadata": {},
   "outputs": [],
   "source": [
    "import numpy as np\n",
    "import time\n",
    "import matplotlib.pyplot as plt"
   ]
  },
  {
   "cell_type": "code",
   "execution_count": 2,
   "metadata": {},
   "outputs": [],
   "source": [
    "# numpy pseudo-random number generation\n",
    "np.random.seed(seed=1184445)"
   ]
  },
  {
   "cell_type": "code",
   "execution_count": 3,
   "metadata": {},
   "outputs": [],
   "source": [
    "data = np.genfromtxt('dataset/sonar/sonar.csv', delimiter=',')\n",
    "X = data[:,:-1] # delete the last column\n",
    "label = np.genfromtxt('dataset/sonar/sonar.csv', dtype='S1', usecols=X.shape[1], delimiter=',')\n",
    "y = (label == label[-1]).astype(int) # make labels either zeros or ones\n",
    "tau = 1e-6"
   ]
  },
  {
   "cell_type": "code",
   "execution_count": 4,
   "metadata": {},
   "outputs": [
    {
     "name": "stdout",
     "output_type": "stream",
     "text": [
      "Dimension of X: (208, 60)\n",
      "Dimension of y: 208\n"
     ]
    }
   ],
   "source": [
    "print(\"Dimension of X: {0}\".format(X.shape))\n",
    "print(\"Dimension of y: {0}\".format(len(y)))"
   ]
  },
  {
   "cell_type": "markdown",
   "metadata": {},
   "source": [
    "### Function\n",
    "\n",
    "The expression of the regularized logistic regression function, for given $X = [\\xi_1 , \\dots, \\xi_m]^T$ and $y = [y_1 , \\dots, y_m]^T$, is\n",
    "\n",
    "\\begin{equation}\n",
    "f(w) = \\sum_{i=0}^{m-1} \\log (1 + \\exp(-y_i \\xi_i^{T} w)) + \\dfrac{\\tau}{2} \\| w \\|^{2}\n",
    "\\end{equation}\n",
    "\n",
    "which can be rewritten as\n",
    "\n",
    "\\begin{equation}\n",
    "f(w) = e^{T} \\log (I+ \\exp(-\\text{diag}(y) X w)) + \\dfrac{\\tau}{2} \\| w \\|^{2}\n",
    "\\end{equation}"
   ]
  },
  {
   "cell_type": "code",
   "execution_count": 5,
   "metadata": {},
   "outputs": [],
   "source": [
    "# define function as Python function\n",
    "def f_logreg(X,y,w,tau=tau):\n",
    "    m = len(y)\n",
    "    f = 0\n",
    "    for i in range(m):\n",
    "        z = -y[i]*np.dot(X[i], w) # z=-y_i*X_i^T*w\n",
    "        f = f + np.log(1+np.exp(z)) # log(1+exp(-z))\n",
    "    f = f + 0.5*tau*np.dot(w,w)\n",
    "    return f"
   ]
  },
  {
   "cell_type": "code",
   "execution_count": 6,
   "metadata": {},
   "outputs": [],
   "source": [
    "# define function as lambda function\n",
    "Z = np.matmul(np.diag(y), X)\n",
    "f = lambda w : np.sum(np.log(1+np.exp(-np.matmul(Z,w))))+0.5*tau*np.dot(w,w)"
   ]
  },
  {
   "cell_type": "code",
   "execution_count": 7,
   "metadata": {},
   "outputs": [
    {
     "name": "stdout",
     "output_type": "stream",
     "text": [
      "Time elapsed with Python function: 2.3603718280792236 seconds\n",
      "Time elapsed with lambda function: 0.04014134407043457 seconds\n",
      "Average difference between the two functions: 1.4378542800841388e-13\n"
     ]
    }
   ],
   "source": [
    "# compare the Python function with the lambda function\n",
    "\n",
    "N = 1000 # number of iterations\n",
    "\n",
    "W = 10*(np.random.random_sample((X.shape[1],N))-0.5)\n",
    "\n",
    "V1 = []\n",
    "T1 = []\n",
    "\n",
    "# Measure time for Python function\n",
    "start_time = time.time()\n",
    "for i in range(N):\n",
    "    w = W[:,i]\n",
    "    V1.append(f_logreg(X,y,w))\n",
    "    curr_time = time.time()\n",
    "    T1.append(curr_time-start_time)\n",
    "        \n",
    "end_time = time.time()\n",
    "print(\"Time elapsed with Python function: {0} seconds\".format(end_time-start_time))\n",
    "\n",
    "V2 = []\n",
    "T2 = []\n",
    "\n",
    "# Measure time for lambda function\n",
    "start_time = time.time()\n",
    "for i in range(N):\n",
    "    w = W[:,i]\n",
    "    V2.append(f(w))\n",
    "    curr_time = time.time()\n",
    "    T2.append(curr_time-start_time)\n",
    "        \n",
    "end_time = time.time()\n",
    "print(\"Time elapsed with lambda function: {0} seconds\".format(end_time-start_time))\n",
    "\n",
    "# Verify that the two functions coincide\n",
    "V = np.abs(np.array(V1) - np.array(V2))\n",
    "print(\"Average difference between the two functions: {0}\".format(np.sum(V)/N))"
   ]
  },
  {
   "cell_type": "code",
   "execution_count": 8,
   "metadata": {},
   "outputs": [
    {
     "data": {
      "image/png": "[encoded data removed]",
      "text/plain": [
       "<Figure size 360x216 with 1 Axes>"
      ]
     },
     "metadata": {
      "needs_background": "light"
     },
     "output_type": "display_data"
    }
   ],
   "source": [
    "fig, ax = plt.subplots(figsize=(5, 3))\n",
    "ax.plot(T1, label='Python function')\n",
    "ax.plot(T2, label='Lambda function')\n",
    "ax.set_title('Comparison of time required for computation')\n",
    "ax.legend(loc='upper left')\n",
    "ax.set_ylabel('number of computed samples')\n",
    "ax.set_ylabel('time')\n",
    "fig.tight_layout()"
   ]
  },
  {
   "cell_type": "code",
   "execution_count": 9,
   "metadata": {},
   "outputs": [],
   "source": [
    "# define gradient as Python function\n",
    "def grad_logreg(X,y,w,tau=tau):\n",
    "    m = len(y)\n",
    "    g = 0\n",
    "    for i in range(m):\n",
    "        z = -y[i]*np.dot(X[i], w) # z=-y_i*X_i^T*w\n",
    "        h = 1/(1+np.exp(z))\n",
    "        g = g - y[i]*X[i]*(1-h)\n",
    "    g = g + tau*w\n",
    "    return g"
   ]
  },
  {
   "cell_type": "markdown",
   "metadata": {},
   "source": [
    "### Gradient\n",
    "\n",
    "The expression of the gradient is given by\n",
    "\n",
    "\\begin{equation}\n",
    "\\nabla f (w) = -\\sum_{i=0}^{m-1}  y_i \\xi_i \\left(1 - \\dfrac{1}{1+\\exp(-y_i \\xi_i^T w)} \\right) + \\tau w\n",
    "\\end{equation}\n",
    "\n",
    "which can be rewritten as\n",
    "\n",
    "\\begin{equation}\n",
    "\\nabla f (w) = -e^{T} \\left( (I + A(w))^{-1}  A(w)) \\right)\n",
    "\\end{equation}\n",
    "\n",
    "where $A(w)=\\text{diag}(\\exp( - \\text{diag} (y) Xw )$\n"
   ]
  },
  {
   "cell_type": "code",
   "execution_count": 10,
   "metadata": {},
   "outputs": [],
   "source": [
    "# define gradient as lambda function\n",
    "\n",
    "I = np.eye(len(y))\n",
    "A = lambda w: np.diag(np.exp(-np.matmul(Z, w)))\n",
    "\n",
    "grad_f = lambda w : -np.sum(np.matmul(np.linalg.inv(I + A(w)), np.matmul(A(w), Z)),0)+tau*w"
   ]
  },
  {
   "cell_type": "code",
   "execution_count": 11,
   "metadata": {},
   "outputs": [
    {
     "name": "stdout",
     "output_type": "stream",
     "text": [
      "Time elapsed with Python gradient: 3.443880796432495 seconds\n",
      "Time elapsed with lambda gradient: 1.1091983318328857 seconds\n",
      "Average L2 distance between the two gradients: 7.848232612024185e-14\n"
     ]
    }
   ],
   "source": [
    "# compare the Python gradient with the lambda gradient\n",
    "\n",
    "N = 1000 # number of iterations\n",
    "\n",
    "W = 10*(np.random.random_sample((X.shape[1],N))-0.5)\n",
    "\n",
    "V1 = []\n",
    "T1 = []\n",
    "\n",
    "# Measure time for Python function\n",
    "start_time = time.time()\n",
    "for i in range(N):\n",
    "    w = W[:,i]\n",
    "    V1.append(grad_logreg(X,y,w))\n",
    "    curr_time = time.time()\n",
    "    T1.append(curr_time-start_time)\n",
    "        \n",
    "end_time = time.time()\n",
    "print(\"Time elapsed with Python gradient: {0} seconds\".format(end_time-start_time))\n",
    "\n",
    "V2 = []\n",
    "T2 = []\n",
    "\n",
    "# Measure time for lambda function\n",
    "start_time = time.time()\n",
    "for i in range(N):\n",
    "    w = W[:,i]\n",
    "    V2.append(grad_f(w))\n",
    "    curr_time = time.time()\n",
    "    T2.append(curr_time-start_time)\n",
    "        \n",
    "end_time = time.time()\n",
    "print(\"Time elapsed with lambda gradient: {0} seconds\".format(end_time-start_time))\n",
    "\n",
    "# Verify that the two functions coincide\n",
    "V = np.abs(np.array(V1) - np.array(V2))\n",
    "print(\"Average L2 distance between the two gradients: {0}\".format(np.sum(V)/N))"
   ]
  },
  {
   "cell_type": "code",
   "execution_count": 12,
   "metadata": {},
   "outputs": [
    {
     "data": {
      "image/png": "[encoded data removed]",
      "text/plain": [
       "<Figure size 360x216 with 1 Axes>"
      ]
     },
     "metadata": {
      "needs_background": "light"
     },
     "output_type": "display_data"
    }
   ],
   "source": [
    "fig, ax = plt.subplots(figsize=(5, 3))\n",
    "ax.plot(T1, label='Python gradient')\n",
    "ax.plot(T2, label='Lambda gradient')\n",
    "ax.set_title('Comparison of time required for computation')\n",
    "ax.legend(loc='upper left')\n",
    "ax.set_ylabel('number of computed samples')\n",
    "ax.set_ylabel('time')\n",
    "fig.tight_layout()"
   ]
  }
 ],
 "metadata": {
  "kernelspec": {
   "display_name": "Python 3",
   "language": "python",
   "name": "python3"
  },
  "language_info": {
   "codemirror_mode": {
    "name": "ipython",
    "version": 3
   },
   "file_extension": ".py",
   "mimetype": "text/x-python",
   "name": "python",
   "nbconvert_exporter": "python",
   "pygments_lexer": "ipython3",
   "version": "3.6.8"
  }
 },
 "nbformat": 4,
 "nbformat_minor": 2
}
